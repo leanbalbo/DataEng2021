{
 "cells": [
  {
   "cell_type": "code",
   "execution_count": 1,
   "metadata": {},
   "outputs": [],
   "source": [
    "import pandas as pd\n",
    "import numpy as np\n",
    "import matplotlib.pyplot as plt\n",
    "import seaborn as sns\n",
    "import math\n",
    "import datetime\n",
    "%matplotlib inline"
   ]
  },
  {
   "cell_type": "code",
   "execution_count": 2,
   "metadata": {},
   "outputs": [
    {
     "data": {
      "text/html": [
       "<div>\n",
       "<style scoped>\n",
       "    .dataframe tbody tr th:only-of-type {\n",
       "        vertical-align: middle;\n",
       "    }\n",
       "\n",
       "    .dataframe tbody tr th {\n",
       "        vertical-align: top;\n",
       "    }\n",
       "\n",
       "    .dataframe thead th {\n",
       "        text-align: right;\n",
       "    }\n",
       "</style>\n",
       "<table border=\"1\" class=\"dataframe\">\n",
       "  <thead>\n",
       "    <tr style=\"text-align: right;\">\n",
       "      <th></th>\n",
       "      <th>Crash ID</th>\n",
       "      <th>Record Type</th>\n",
       "      <th>Vehicle ID</th>\n",
       "      <th>Participant ID</th>\n",
       "      <th>Participant Display Seq#</th>\n",
       "      <th>Vehicle Coded Seq#</th>\n",
       "      <th>Participant Vehicle Seq#</th>\n",
       "      <th>Serial #</th>\n",
       "      <th>Crash Month</th>\n",
       "      <th>Crash Day</th>\n",
       "      <th>...</th>\n",
       "      <th>Participant Cause 2 Code</th>\n",
       "      <th>Participant Cause 3 Code</th>\n",
       "      <th>Participant Event 1 Code</th>\n",
       "      <th>Participant Event 2 Code</th>\n",
       "      <th>Participant Event 3 Code</th>\n",
       "      <th>BAC Test Results Code</th>\n",
       "      <th>Alcohol Use Reported</th>\n",
       "      <th>Drug Use Reported</th>\n",
       "      <th>Participant Marijuana Use Reported</th>\n",
       "      <th>Participant Striker Flag</th>\n",
       "    </tr>\n",
       "  </thead>\n",
       "  <tbody>\n",
       "    <tr>\n",
       "      <th>0</th>\n",
       "      <td>1809119</td>\n",
       "      <td>1</td>\n",
       "      <td>NaN</td>\n",
       "      <td>NaN</td>\n",
       "      <td>NaN</td>\n",
       "      <td>NaN</td>\n",
       "      <td>NaN</td>\n",
       "      <td>99992.0</td>\n",
       "      <td>3.0</td>\n",
       "      <td>14.0</td>\n",
       "      <td>...</td>\n",
       "      <td>NaN</td>\n",
       "      <td>NaN</td>\n",
       "      <td>NaN</td>\n",
       "      <td>NaN</td>\n",
       "      <td>NaN</td>\n",
       "      <td>NaN</td>\n",
       "      <td>NaN</td>\n",
       "      <td>NaN</td>\n",
       "      <td>NaN</td>\n",
       "      <td>NaN</td>\n",
       "    </tr>\n",
       "    <tr>\n",
       "      <th>1</th>\n",
       "      <td>1809119</td>\n",
       "      <td>2</td>\n",
       "      <td>3409578.0</td>\n",
       "      <td>NaN</td>\n",
       "      <td>NaN</td>\n",
       "      <td>1.0</td>\n",
       "      <td>NaN</td>\n",
       "      <td>NaN</td>\n",
       "      <td>NaN</td>\n",
       "      <td>NaN</td>\n",
       "      <td>...</td>\n",
       "      <td>NaN</td>\n",
       "      <td>NaN</td>\n",
       "      <td>NaN</td>\n",
       "      <td>NaN</td>\n",
       "      <td>NaN</td>\n",
       "      <td>NaN</td>\n",
       "      <td>NaN</td>\n",
       "      <td>NaN</td>\n",
       "      <td>NaN</td>\n",
       "      <td>NaN</td>\n",
       "    </tr>\n",
       "    <tr>\n",
       "      <th>2</th>\n",
       "      <td>1809119</td>\n",
       "      <td>3</td>\n",
       "      <td>3409578.0</td>\n",
       "      <td>3887884.0</td>\n",
       "      <td>1.0</td>\n",
       "      <td>1.0</td>\n",
       "      <td>1.0</td>\n",
       "      <td>NaN</td>\n",
       "      <td>NaN</td>\n",
       "      <td>NaN</td>\n",
       "      <td>...</td>\n",
       "      <td>NaN</td>\n",
       "      <td>0.0</td>\n",
       "      <td>9.0</td>\n",
       "      <td>0.0</td>\n",
       "      <td>0.0</td>\n",
       "      <td>NaN</td>\n",
       "      <td>NaN</td>\n",
       "      <td>NaN</td>\n",
       "      <td>NaN</td>\n",
       "      <td>NaN</td>\n",
       "    </tr>\n",
       "    <tr>\n",
       "      <th>3</th>\n",
       "      <td>1809119</td>\n",
       "      <td>2</td>\n",
       "      <td>3409579.0</td>\n",
       "      <td>NaN</td>\n",
       "      <td>NaN</td>\n",
       "      <td>2.0</td>\n",
       "      <td>NaN</td>\n",
       "      <td>NaN</td>\n",
       "      <td>NaN</td>\n",
       "      <td>NaN</td>\n",
       "      <td>...</td>\n",
       "      <td>NaN</td>\n",
       "      <td>NaN</td>\n",
       "      <td>NaN</td>\n",
       "      <td>NaN</td>\n",
       "      <td>NaN</td>\n",
       "      <td>NaN</td>\n",
       "      <td>NaN</td>\n",
       "      <td>NaN</td>\n",
       "      <td>NaN</td>\n",
       "      <td>NaN</td>\n",
       "    </tr>\n",
       "    <tr>\n",
       "      <th>4</th>\n",
       "      <td>1809119</td>\n",
       "      <td>3</td>\n",
       "      <td>3409579.0</td>\n",
       "      <td>3887885.0</td>\n",
       "      <td>2.0</td>\n",
       "      <td>2.0</td>\n",
       "      <td>1.0</td>\n",
       "      <td>NaN</td>\n",
       "      <td>NaN</td>\n",
       "      <td>NaN</td>\n",
       "      <td>...</td>\n",
       "      <td>NaN</td>\n",
       "      <td>NaN</td>\n",
       "      <td>9.0</td>\n",
       "      <td>9.0</td>\n",
       "      <td>0.0</td>\n",
       "      <td>NaN</td>\n",
       "      <td>NaN</td>\n",
       "      <td>NaN</td>\n",
       "      <td>NaN</td>\n",
       "      <td>NaN</td>\n",
       "    </tr>\n",
       "  </tbody>\n",
       "</table>\n",
       "<p>5 rows × 157 columns</p>\n",
       "</div>"
      ],
      "text/plain": [
       "   Crash ID  Record Type  Vehicle ID  Participant ID  \\\n",
       "0   1809119            1         NaN             NaN   \n",
       "1   1809119            2   3409578.0             NaN   \n",
       "2   1809119            3   3409578.0       3887884.0   \n",
       "3   1809119            2   3409579.0             NaN   \n",
       "4   1809119            3   3409579.0       3887885.0   \n",
       "\n",
       "   Participant Display Seq#  Vehicle Coded Seq#  Participant Vehicle Seq#  \\\n",
       "0                       NaN                 NaN                       NaN   \n",
       "1                       NaN                 1.0                       NaN   \n",
       "2                       1.0                 1.0                       1.0   \n",
       "3                       NaN                 2.0                       NaN   \n",
       "4                       2.0                 2.0                       1.0   \n",
       "\n",
       "   Serial #  Crash Month  Crash Day  ...  Participant Cause 2 Code  \\\n",
       "0   99992.0          3.0       14.0  ...                       NaN   \n",
       "1       NaN          NaN        NaN  ...                       NaN   \n",
       "2       NaN          NaN        NaN  ...                       NaN   \n",
       "3       NaN          NaN        NaN  ...                       NaN   \n",
       "4       NaN          NaN        NaN  ...                       NaN   \n",
       "\n",
       "   Participant Cause 3 Code  Participant Event 1 Code  \\\n",
       "0                       NaN                       NaN   \n",
       "1                       NaN                       NaN   \n",
       "2                       0.0                       9.0   \n",
       "3                       NaN                       NaN   \n",
       "4                       NaN                       9.0   \n",
       "\n",
       "   Participant Event 2 Code  Participant Event 3 Code  BAC Test Results Code  \\\n",
       "0                       NaN                       NaN                    NaN   \n",
       "1                       NaN                       NaN                    NaN   \n",
       "2                       0.0                       0.0                    NaN   \n",
       "3                       NaN                       NaN                    NaN   \n",
       "4                       9.0                       0.0                    NaN   \n",
       "\n",
       "   Alcohol Use Reported  Drug Use Reported  \\\n",
       "0                   NaN                NaN   \n",
       "1                   NaN                NaN   \n",
       "2                   NaN                NaN   \n",
       "3                   NaN                NaN   \n",
       "4                   NaN                NaN   \n",
       "\n",
       "   Participant Marijuana Use Reported  Participant Striker Flag  \n",
       "0                                 NaN                       NaN  \n",
       "1                                 NaN                       NaN  \n",
       "2                                 NaN                       NaN  \n",
       "3                                 NaN                       NaN  \n",
       "4                                 NaN                       NaN  \n",
       "\n",
       "[5 rows x 157 columns]"
      ]
     },
     "execution_count": 2,
     "metadata": {},
     "output_type": "execute_result"
    }
   ],
   "source": [
    "# Part B (2): Write python code to read in the test data and parse it into python data structures\n",
    "df = pd.read_csv('Oregon_Hwy26 Crash_Data_for_2019 - Crashes on Hwy 26 during 2019.csv')\n",
    "df.head()"
   ]
  },
  {
   "cell_type": "code",
   "execution_count": 3,
   "metadata": {},
   "outputs": [
    {
     "name": "stdout",
     "output_type": "stream",
     "text": [
      "44.39576487769259\n"
     ]
    }
   ],
   "source": [
    "# Part B (3): Validate the first one of Existence Assertions: 45% of the records have a 'Participant ID' attribute\n",
    "participant_Id = df['Participant ID'].count()\n",
    "total_lines_in_csv = df['Crash ID'].count()\n",
    "# print(total_lines_in_csv)\n",
    "# print(participant_Id)\n",
    "print((participant_Id / total_lines_in_csv)*100)"
   ]
  },
  {
   "cell_type": "code",
   "execution_count": 4,
   "metadata": {},
   "outputs": [
    {
     "name": "stdout",
     "output_type": "stream",
     "text": [
      "81.4530850675429\n"
     ]
    }
   ],
   "source": [
    "# Part B (3): Validate the second one of Existence Assertions: 80% of the records have a 'Vehicle ID' attribute\n",
    "vehicle_Id = df['Vehicle ID'].count()\n",
    "total_lines_in_csv = df['Crash ID'].count()\n",
    "print((vehicle_Id / total_lines_in_csv)*100)"
   ]
  },
  {
   "cell_type": "code",
   "execution_count": 5,
   "metadata": {},
   "outputs": [
    {
     "name": "stdout",
     "output_type": "stream",
     "text": [
      "Every record has a Record Type attribute\n"
     ]
    }
   ],
   "source": [
    "# Part B (3): Doing the Iterate part: Validate the third one of Existence Assertions: Every record has a 'Record Type' attribute\n",
    "record_type_count = df['Record Type'].count()\n",
    "crash_id_count = df['Crash ID'].count()\n",
    "if record_type_count == crash_id_count:\n",
    "    print('Every record has a Record Type attribute')\n",
    "else:\n",
    "    print(\"It is not the whole records have Record Type attribute\")"
   ]
  },
  {
   "cell_type": "code",
   "execution_count": 6,
   "metadata": {},
   "outputs": [
    {
     "name": "stdout",
     "output_type": "stream",
     "text": [
      "{1, 2, 3, 4, 5, 6, 7}\n"
     ]
    }
   ],
   "source": [
    "# Part B (3): Validate the first one of Limit Assertions: The Week Day Code data field should be between 1 and 7\n",
    "weekday = df['Week Day Code']\n",
    "result = set()\n",
    "for i in range(len(weekday)):\n",
    "    if math.isnan(weekday[i]) == False:\n",
    "        result.add(int(weekday[i]))\n",
    "print(result)"
   ]
  },
  {
   "cell_type": "code",
   "execution_count": 7,
   "metadata": {},
   "outputs": [
    {
     "name": "stdout",
     "output_type": "stream",
     "text": [
      "{26, 3, 14}\n"
     ]
    }
   ],
   "source": [
    "# Part B (3): Validate the second one of Limit Assertions: The County Code data field should be between 1 and 36.\n",
    "county_code = df['County Code']\n",
    "result = set()\n",
    "for i in range(len(county_code)):\n",
    "    if math.isnan(county_code[i]) == False:\n",
    "        result.add(int(county_code[i]))\n",
    "print(result)"
   ]
  },
  {
   "cell_type": "code",
   "execution_count": 8,
   "metadata": {},
   "outputs": [
    {
     "name": "stdout",
     "output_type": "stream",
     "text": [
      "True\n"
     ]
    }
   ],
   "source": [
    "# Part B (3): Doing the Iterate part: Validate the third one of Limit Assertions: The Collision Type data field should be between 0 and 9.\n",
    "collision_type = df['Collision Type']\n",
    "result = set(); valid = True\n",
    "for i in range(len(collision_type)):\n",
    "    if math.isnan(collision_type[i]) == False:\n",
    "        result.add(int(collision_type[i]))\n",
    "        if collision_type[i] < 0 or collision_type[i] > 9:\n",
    "            valid = False\n",
    "print(valid)\n",
    "\n",
    "# The second method:\n",
    "# checkSet = result | set(range(10))  # | Union meaning in the set()\n",
    "# checkSet2 = checkSet - set(range(10))\n",
    "# print(len(checkSet2) == 0)"
   ]
  },
  {
   "cell_type": "code",
   "execution_count": 9,
   "metadata": {},
   "outputs": [
    {
     "name": "stdout",
     "output_type": "stream",
     "text": [
      "[5, 1, 6, 1, 2, 2, 7, 6, 6, 2, 7, 3, 6, 5, 5, 4, 2, 6, 6, 7, 7, 1, 7, 2, 3, 3, 2, 6, 7, 1, 7, 1, 3, 2, 7, 7, 6, 5, 7, 1, 7, 2, 7, 5, 4, 4, 7, 7, 3, 6, 4, 4, 3, 3, 3, 4, 4, 7, 3, 4, 4, 2, 4, 3, 6, 1, 3, 4, 1, 6, 6, 7, 2, 4, 5, 4, 7, 3, 7, 2, 4, 2, 6, 7, 5, 6, 1, 4, 4, 6, 1, 1, 4, 4, 7, 3, 3, 6, 5, 7, 1, 1, 2, 7, 7, 6, 4, 1, 5, 6, 6, 2, 4, 3, 2, 4, 1, 1, 7, 3, 1, 3, 5, 7, 7, 5, 3, 7, 4, 4, 3, 7, 1, 1, 2, 3, 6, 6, 7, 4, 6, 1, 7, 7, 7, 2, 1, 3, 5, 4, 4, 4, 1, 4, 5, 5, 6, 6, 6, 3, 5, 1, 6, 2, 3, 7, 2, 1, 4, 3, 4, 5, 7, 6, 6, 6, 1, 4, 5, 7, 1, 7, 6, 3, 4, 5, 6, 6, 7, 2, 3, 5, 4, 3, 4, 6, 6, 5, 1, 1, 7, 4, 2, 2, 6, 7, 5, 2, 7, 2, 5, 6, 1, 1, 2, 3, 3, 4, 6, 5, 7, 6, 4, 5, 1, 3, 5, 5, 6, 6, 6, 6, 6, 1, 1, 2, 2, 4, 5, 3, 3, 6, 2, 2, 4, 2, 2, 1, 6, 1, 2, 2, 2, 7, 6, 2, 7, 5, 3, 2, 2, 6, 5, 4, 5, 4, 5, 6, 5, 5, 3, 4, 7, 4, 1, 2, 7, 3, 4, 1, 4, 5, 7, 3, 2, 1, 3, 3, 3, 1, 2, 3, 4, 5, 5, 5, 5, 5, 5, 3, 6, 4, 6, 7, 7, 1, 2, 1, 2, 4, 2, 3, 3, 3, 1, 6, 6, 6, 2, 6, 7, 3, 7, 7, 3, 4, 1, 2, 2, 5, 5, 1, 1, 2, 2, 3, 6, 1, 3, 1, 6, 6, 3, 6, 3, 4, 7, 3, 7, 5, 1, 7, 7, 1, 7, 3, 6, 4, 4, 3, 4, 4, 6, 3, 7, 7, 5, 5, 4, 2, 4, 4, 1, 3, 5, 7, 7, 2, 2, 3, 3, 4, 6, 5, 4, 2, 3, 6, 6, 1, 3, 5, 3, 5, 5, 4, 5, 2, 3, 5, 5, 5, 5, 3, 6, 7, 4, 1, 1, 2, 1, 4, 5, 6, 7, 1, 2, 4, 3, 5, 5, 3, 4, 7, 6, 3, 2, 7, 5, 6, 1, 2, 7, 7, 4, 6, 6, 3, 7, 5, 5, 7, 1, 4, 7, 2, 7, 3, 6, 7, 4, 2, 2, 7, 2, 2, 4, 4, 4, 7, 2, 2, 5, 5, 7, 3, 4, 6, 3, 7, 5, 6, 6, 7, 2, 4, 5, 6, 6, 2, 3, 5, 3, 4, 3, 2, 3, 3, 7, 7, 5, 7, 2, 3, 1, 1, 2, 7, 7, 1, 4, 6, 5, 6, 7, 7, 2, 2]\n"
     ]
    }
   ],
   "source": [
    "# Part B (3): intra-record check assertions: Week Day Code - 1 = Crash Month + Crash Day + Crash Year\n",
    "crash_month = df['Crash Month']\n",
    "crash_day = df['Crash Day']\n",
    "crash_year = df['Crash Year']\n",
    "month_res = []\n",
    "day_res = []\n",
    "year_res = []\n",
    "date_res = []\n",
    "\n",
    "for i in range(len(crash_month)):\n",
    "    if math.isnan(crash_month[i]) == False:\n",
    "        month_res.append(int(crash_month[i]))\n",
    "for i in range(len(crash_day)):\n",
    "    if math.isnan(crash_day[i]) == False:\n",
    "        day_res.append(int(crash_day[i]))\n",
    "for i in range(len(crash_year)):\n",
    "    if math.isnan(crash_year[i]) == False:\n",
    "        year_res.append(int(crash_year[i]))\n",
    "\n",
    "date_dict = {\n",
    "    \"Sun\": 1,\n",
    "    \"Mon\": 2,\n",
    "    \"Tue\": 3,\n",
    "    \"Wed\": 4,\n",
    "    \"Thu\": 5,\n",
    "    \"Fri\": 6,\n",
    "    \"Sat\": 7\n",
    "}\n",
    "\n",
    "for i in range(len(month_res)):\n",
    "    date = datetime.datetime(year_res[i], month_res[i], day_res[i])\n",
    "    transform_date = date.strftime(\"%a\")\n",
    "    date_res.append(date_dict[transform_date])\n",
    "print(date_res)\n"
   ]
  },
  {
   "cell_type": "code",
   "execution_count": 10,
   "metadata": {},
   "outputs": [
    {
     "name": "stdout",
     "output_type": "stream",
     "text": [
      "508\n",
      "508\n"
     ]
    }
   ],
   "source": [
    "# Part B (3): intra-record check assertions: The Crash Severity is related to the Weather Condition\n",
    "crash_severity = df['Crash Severity']\n",
    "weather_condition = df['Weather Condition']\n",
    "severity_res = []\n",
    "weather_res = []\n",
    "\n",
    "for i in range(len(crash_severity)):\n",
    "    if math.isnan(crash_severity[i]) == False:\n",
    "        severity_res.append(int(crash_severity[i]))\n",
    "\n",
    "for i in range(len(weather_condition)):\n",
    "    if math.isnan(weather_condition[i]) == False:\n",
    "        weather_res.append(int(weather_condition[i]))\n",
    "\n",
    "print(len(severity_res))\n",
    "print(len(weather_res))\n",
    "# The result is the same, then we can tell the crash severity is related to the weather condition"
   ]
  },
  {
   "cell_type": "code",
   "execution_count": 11,
   "metadata": {},
   "outputs": [
    {
     "name": "stdout",
     "output_type": "stream",
     "text": [
      "{0, 83, 245, 247, 185, 250}\n",
      "['Outside City', 'Greenhorn', 'Portland SE', 'Portland SW', 'Sandy', 'Portland Bridges']\n",
      "{26, 3, 14}\n",
      "['Multnomah', 'Clackamas', 'Hood River']\n"
     ]
    }
   ],
   "source": [
    "# Part B (3): Doing the Iterate part: Validate the third one of intra-record check Assertions: The City Section ID is related to the County Code.\n",
    "city_section_id = df['City Section ID']\n",
    "county_code = df['County Code']\n",
    "county_set = set()\n",
    "city_section_set = set()\n",
    "city_name = []\n",
    "county_name = []\n",
    "\n",
    "for i in range(len(county_code)):\n",
    "    if math.isnan(county_code[i]) == False:\n",
    "        county_set.add(int(county_code[i]))\n",
    "\n",
    "for i in range(len(city_section_id)):\n",
    "    if math.isnan(city_section_id[i]) == False:\n",
    "        city_section_set.add(int(city_section_id[i]))\n",
    "\n",
    "city_dict = {\n",
    "    0: 'Outside City',\n",
    "    83: 'Greenhorn',\n",
    "    245: 'Portland SE',\n",
    "    247: 'Portland SW',\n",
    "    185: 'Sandy',\n",
    "    250: 'Portland Bridges'\n",
    "}        \n",
    "\n",
    "county_dict = {\n",
    "    26: 'Multnomah',\n",
    "    3: 'Clackamas',\n",
    "    14: 'Hood River'\n",
    "}\n",
    "\n",
    "for val in city_section_set:\n",
    "    city_name.append(city_dict[val])\n",
    "\n",
    "for val in county_set:\n",
    "    county_name.append(county_dict[val])\n",
    "\n",
    "print(city_section_set)\n",
    "print(city_name)\n",
    "print(county_set)  \n",
    "print(county_name)"
   ]
  },
  {
   "cell_type": "code",
   "execution_count": 12,
   "metadata": {},
   "outputs": [
    {
     "name": "stdout",
     "output_type": "stream",
     "text": [
      "6.692913385826772\n"
     ]
    }
   ],
   "source": [
    "# Part B (3): inter-record check assertions: The Crash Hour at 14 should not be more than 10%.\n",
    "crash_hour = df['Crash Hour']\n",
    "crash_list = []\n",
    "fourteen_count = 0\n",
    "for i in range(len(crash_hour)):\n",
    "    if math.isnan(crash_hour[i]) == False:\n",
    "        crash_list.append(int(crash_hour[i]))\n",
    "        if int(crash_hour[i]) == 14:\n",
    "            fourteen_count += 1\n",
    "print((fourteen_count / len(crash_list))*100)"
   ]
  },
  {
   "cell_type": "code",
   "execution_count": 13,
   "metadata": {},
   "outputs": [
    {
     "name": "stdout",
     "output_type": "stream",
     "text": [
      "71.65354330708661\n"
     ]
    }
   ],
   "source": [
    "# Part B (3): inter-record check assertions: The Urban Area Code is 57 should be more than 70%.\n",
    "urban_area = df['Urban Area Code']\n",
    "urban_area_code_list = []\n",
    "fifteen_seven_count = 0\n",
    "for i in range(len(urban_area)):\n",
    "    if math.isnan(urban_area[i]) == False:\n",
    "        urban_area_code_list.append(int(urban_area[i]))\n",
    "        if int(urban_area[i]) == 57:\n",
    "            fifteen_seven_count += 1\n",
    "\n",
    "print((fifteen_seven_count / len(urban_area_code_list)) * 100)"
   ]
  },
  {
   "cell_type": "code",
   "execution_count": 14,
   "metadata": {},
   "outputs": [
    {
     "name": "stdout",
     "output_type": "stream",
     "text": [
      "68.7007874015748\n"
     ]
    }
   ],
   "source": [
    "# Part B (3): Doing the Iterate part: Validate the third one of inter-record check Assertions: The County Code is 26 should be more than 50%.\n",
    "county_code = df['County Code']\n",
    "county_code_list = []\n",
    "twenty_six_count = 0\n",
    "\n",
    "for i in range(len(county_code)):\n",
    "    if math.isnan(county_code[i]) == False:\n",
    "        county_code_list.append(int(county_code[i]))\n",
    "        if int(county_code[i]) == 26:\n",
    "            twenty_six_count += 1\n",
    "\n",
    "print((twenty_six_count / len(county_code_list)) * 100)"
   ]
  },
  {
   "cell_type": "code",
   "execution_count": 15,
   "metadata": {},
   "outputs": [
    {
     "name": "stdout",
     "output_type": "stream",
     "text": [
      "True\n"
     ]
    }
   ],
   "source": [
    "# Part B (3): Summary assertions: Every Vehicle has a unique ID\n",
    "vehicle_id = df['Vehicle ID']\n",
    "vehicle_id_count = 0\n",
    "vehicle_id_none_count = 0\n",
    "for i in range(len(vehicle_id)):\n",
    "    if math.isnan(vehicle_id[i]) == False:\n",
    "        vehicle_id_count += 1\n",
    "    else:\n",
    "        vehicle_id_none_count += 1\n",
    "\n",
    "if vehicle_id_count + vehicle_id_none_count == len(vehicle_id):\n",
    "    print(True)\n",
    "else:\n",
    "    print(False)\n",
    "\n",
    "# If the result is True, then we can tell every vehicle has a unique ID"
   ]
  },
  {
   "cell_type": "code",
   "execution_count": 16,
   "metadata": {},
   "outputs": [
    {
     "name": "stdout",
     "output_type": "stream",
     "text": [
      "True\n"
     ]
    }
   ],
   "source": [
    "# Part B (3): Summary assertions: Every Participant has a unique ID\n",
    "participant_id = df['Participant ID']\n",
    "participant_id_count = 0\n",
    "participant_id_none_count = 0\n",
    "for i in range(len(participant_id)):\n",
    "    if math.isnan(participant_id[i]) == False:\n",
    "        participant_id_count += 1\n",
    "    else:\n",
    "        participant_id_none_count += 1\n",
    "\n",
    "if participant_id_count + participant_id_none_count == len(participant_id):\n",
    "    print(True)\n",
    "else:\n",
    "    print(False)"
   ]
  },
  {
   "cell_type": "code",
   "execution_count": 17,
   "metadata": {},
   "outputs": [
    {
     "name": "stdout",
     "output_type": "stream",
     "text": [
      "Not every crash has a unique crash serial number.\n"
     ]
    }
   ],
   "source": [
    "# Part B (3): Doing the Iterate part: Validate the third one of summary Assertions: Not every crash has a unique crash serial number.\n",
    "crash_id = df['Crash ID']\n",
    "serial_num = df['Serial #']\n",
    "crash_id_set = set()\n",
    "serial_set = set()\n",
    "\n",
    "for i in range(len(crash_id)):\n",
    "    if math.isnan(crash_id[i]) == False:\n",
    "        crash_id_set.add(crash_id[i])\n",
    "\n",
    "for i in range(len(serial_num)):\n",
    "    if math.isnan(serial_num[i]) == False:\n",
    "        serial_set.add(serial_num[i])\n",
    "\n",
    "if len(crash_id_set) != len(serial_set):\n",
    "    print(\"Not every crash has a unique crash serial number.\")\n",
    "else:\n",
    "    print(\"Every crash has a unique crash serial number\")"
   ]
  },
  {
   "cell_type": "code",
   "execution_count": 18,
   "metadata": {},
   "outputs": [
    {
     "name": "stdout",
     "output_type": "stream",
     "text": [
      "True\n"
     ]
    }
   ],
   "source": [
    "# Part B (3): Referential integrity insertions: Every crash participant has a Vehicle ID of a known vehicle.\n",
    "vehicle_id = df['Vehicle ID']\n",
    "participant_id = df['Participant ID']\n",
    "vehicle_set = set()\n",
    "participant_set = set()\n",
    "\n",
    "for i in range(len(vehicle_id)):\n",
    "    if math.isnan(vehicle_id[i]) == False:\n",
    "        vehicle_set.add(int(vehicle_id[i]))\n",
    "\n",
    "for i in range(len(participant_id)):\n",
    "    if math.isnan(participant_id[i]) == False:\n",
    "        participant_set.add(int(participant_id[i]))\n",
    "\n",
    "if len(participant_set) >= len(vehicle_set):\n",
    "    print(True)\n",
    "else:\n",
    "    print(False)\n",
    "\n",
    "# If True, then we can tell every crash participant has a Vehicle ID of a known vehicle. \n",
    "# For example, there are four people in a car and this car is happened a car accident with another car. \n",
    "# Then in logically, the number of participant is greater or equal than the number of crash car."
   ]
  },
  {
   "cell_type": "code",
   "execution_count": 19,
   "metadata": {},
   "outputs": [
    {
     "name": "stdout",
     "output_type": "stream",
     "text": [
      "True\n"
     ]
    }
   ],
   "source": [
    "# Part B (3): Referential integrity insetions: Every crash vehicle has a Crash ID of a known crash.\n",
    "crash_id = df['Crash ID']\n",
    "vehicle_id = df['Vehicle ID']\n",
    "crash_set = set()\n",
    "vehicle_set = set()\n",
    "\n",
    "for i in range(len(crash_id)):\n",
    "    if math.isnan(crash_id[i]) == False:\n",
    "        crash_set.add(int(crash_id[i]))\n",
    "\n",
    "for i in range(len(vehicle_id)):\n",
    "    if math.isnan(vehicle_id[i]) == False:\n",
    "        vehicle_set.add(int(vehicle_id[i]))\n",
    "\n",
    "if len(vehicle_set) >= len(crash_set):\n",
    "    print(True)\n",
    "else:\n",
    "    print(False)\n",
    "\n",
    "# If return True, then we can say every crash vehicle has a Crash ID of a known crash\n",
    "# Think of a situation: only one car has a car crash, then need to use \"=\" symbol."
   ]
  },
  {
   "cell_type": "code",
   "execution_count": 20,
   "metadata": {},
   "outputs": [
    {
     "name": "stdout",
     "output_type": "stream",
     "text": [
      "Every crash has a Serial number of a known crash.\n"
     ]
    }
   ],
   "source": [
    "# Part B (3): Doing the Iterate part: Validate the third one of referential integrity insertions: Every crash has a Serial number of a known crash.\n",
    "crash_id = df['Crash ID']\n",
    "serial_num = df['Serial #']\n",
    "crash_id_set = set()\n",
    "serial_list = []\n",
    "\n",
    "for i in range(len(crash_id)):\n",
    "    if math.isnan(crash_id[i]) == False:\n",
    "        crash_id_set.add(int(crash_id[i]))\n",
    "\n",
    "for i in range(len(serial_num)):\n",
    "    if math.isnan(serial_num[i]) == False:\n",
    "        serial_list.append(int(serial_num[i]))\n",
    "\n",
    "if len(crash_id_set) == len(serial_list):\n",
    "    print(\"Every crash has a Serial number of a known crash.\")\n",
    "else:\n",
    "    print(\"Not every crash has a Serial number of a known crash\")"
   ]
  },
  {
   "cell_type": "code",
   "execution_count": 21,
   "metadata": {},
   "outputs": [
    {
     "name": "stdout",
     "output_type": "stream",
     "text": [
      "no matter what the weather conditions are, crashes would happen.\n",
      "\n",
      "\n",
      "Weather Condition\n",
      "0.0      1\n",
      "1.0    346\n",
      "2.0     89\n",
      "3.0     37\n",
      "4.0     16\n",
      "5.0     19\n",
      "Name: Crash ID, dtype: int64\n"
     ]
    },
    {
     "data": {
      "text/plain": [
       "Text(0, 0.5, 'Crash Count')"
      ]
     },
     "execution_count": 21,
     "metadata": {},
     "output_type": "execute_result"
    },
    {
     "data": {
      "image/png": "[encoded data removed]",
      "text/plain": [
       "<Figure size 432x288 with 1 Axes>"
      ]
     },
     "metadata": {
      "needs_background": "light"
     },
     "output_type": "display_data"
    }
   ],
   "source": [
    "# Part B (3): statistical distribution assertion: No matter what the weather conditions are, crashes would happen.\n",
    "weather_condition = df['Weather Condition']\n",
    "crash_id = df['Crash ID']\n",
    "weather_list = []\n",
    "crash_set = set()\n",
    "\n",
    "for i in range(len(weather_condition)):\n",
    "    if math.isnan(weather_condition[i]) == False:\n",
    "        weather_list.append(int(weather_condition[i]))\n",
    "\n",
    "for i in range(len(crash_id)):\n",
    "    if math.isnan(crash_id[i]) == False:\n",
    "        crash_set.add(int(crash_id[i]))\n",
    "\n",
    "if len(crash_set) == len(weather_list):\n",
    "    print('no matter what the weather conditions are, crashes would happen.')\n",
    "else:\n",
    "    print('no matter what the weather conditions are, crashes would not happen.')\n",
    "\n",
    "print('\\n')\n",
    "grouped_df = df.groupby('Weather Condition')['Crash ID'].count()\n",
    "print(grouped_df)\n",
    "\n",
    "df.groupby('Weather Condition')['Crash ID'].count().plot.bar()\n",
    "plt.title('Relationship between Crash and Weather')\n",
    "plt.ylabel('Crash Count')"
   ]
  },
  {
   "cell_type": "code",
   "execution_count": 22,
   "metadata": {},
   "outputs": [
    {
     "name": "stdout",
     "output_type": "stream",
     "text": [
      "{0, 1, 2, 3, 4, 5, 6, 7, 8, 9, 10, 11, 12, 13, 14, 15, 16, 17, 18, 19, 20, 21, 22, 23, 99} \n",
      "\n",
      "Crash Hour\n",
      "0.0     11\n",
      "1.0      5\n",
      "2.0      5\n",
      "3.0      4\n",
      "4.0      2\n",
      "5.0      9\n",
      "6.0      8\n",
      "7.0     19\n",
      "8.0     26\n",
      "9.0     28\n",
      "10.0    23\n",
      "11.0    18\n",
      "12.0    35\n",
      "13.0    29\n",
      "14.0    34\n",
      "15.0    52\n",
      "16.0    38\n",
      "17.0    50\n",
      "18.0    28\n",
      "19.0    23\n",
      "20.0    25\n",
      "21.0    18\n",
      "22.0     7\n",
      "23.0     7\n",
      "99.0     4\n",
      "Name: Crash ID, dtype: int64\n"
     ]
    },
    {
     "data": {
      "text/plain": [
       "Text(0, 0.5, 'Crash Count')"
      ]
     },
     "execution_count": 22,
     "metadata": {},
     "output_type": "execute_result"
    },
    {
     "data": {
      "image/png": "[encoded data removed]",
      "text/plain": [
       "<Figure size 432x288 with 1 Axes>"
      ]
     },
     "metadata": {
      "needs_background": "light"
     },
     "output_type": "display_data"
    }
   ],
   "source": [
    "# Part B (3): statistical distribution assertion: Crashes can happen in the 24 hours every day.\n",
    "crash_hour = df['Crash Hour']\n",
    "crash_hour_set = set()\n",
    "\n",
    "for i in range(len(crash_hour)):\n",
    "    if math.isnan(crash_hour[i]) == False:\n",
    "        crash_hour_set.add(int(crash_hour[i]))\n",
    "\n",
    "print(crash_hour_set,'\\n')\n",
    "\n",
    "grouped_df = df.groupby('Crash Hour')['Crash ID'].count()\n",
    "print(grouped_df)\n",
    "\n",
    "df.groupby('Crash Hour')['Crash ID'].count().plot.bar()\n",
    "plt.title('Relationship between Crash and Hour')\n",
    "plt.ylabel('Crash Count')"
   ]
  },
  {
   "cell_type": "code",
   "execution_count": 23,
   "metadata": {},
   "outputs": [
    {
     "name": "stdout",
     "output_type": "stream",
     "text": [
      "No matter what the road surface conditions are, crashes would happen.\n",
      "\n",
      " Road Surface Condition\n",
      "0.0      84\n",
      "1.0     122\n",
      "2.0       4\n",
      "3.0       2\n",
      "4.0      85\n",
      "7.0       5\n",
      "9.0       2\n",
      "11.0      1\n",
      "15.0      9\n",
      "19.0      7\n",
      "22.0      7\n",
      "23.0      1\n",
      "90.0      4\n",
      "99.0    175\n",
      "Name: Crash ID, dtype: int64\n"
     ]
    },
    {
     "data": {
      "text/plain": [
       "Text(0, 0.5, 'Crash Count')"
      ]
     },
     "execution_count": 23,
     "metadata": {},
     "output_type": "execute_result"
    },
    {
     "data": {
      "image/png": "[encoded data removed]",
      "text/plain": [
       "<Figure size 432x288 with 1 Axes>"
      ]
     },
     "metadata": {
      "needs_background": "light"
     },
     "output_type": "display_data"
    }
   ],
   "source": [
    "# Part B (3): Doing the Iterate part: Validate the third one of statistical distribution assertions: No matter what the road surface conditions are, crashes would happen.\n",
    "road_surface_condition = df['Road Surface Condition']\n",
    "crash_id = df['Crash ID']\n",
    "crash_set = set()\n",
    "road_surface_condition_list = []\n",
    "\n",
    "for i in range(len(road_surface_condition)):\n",
    "    if math.isnan(road_surface_condition[i]) == False:\n",
    "        road_surface_condition_list.append(road_surface_condition[i])\n",
    "\n",
    "for i in range(len(crash_id)):\n",
    "    if math.isnan(crash_id[i]) == False:\n",
    "        crash_set.add(crash_id[i])    \n",
    "\n",
    "if len(road_surface_condition_list) == len(crash_set):\n",
    "    print(\"No matter what the road surface conditions are, crashes would happen.\")\n",
    "else:\n",
    "    print(\"No matter what the road surface conditions are, crashes would not happen.\")\n",
    "\n",
    "grouped_df = df.groupby('Road Surface Condition')['Crash ID'].count()\n",
    "print('\\n',grouped_df)\n",
    "\n",
    "df.groupby('Road Surface Condition')['Crash ID'].count().plot.bar()\n",
    "plt.title('Relationship between Crash and Road Surface Condition')\n",
    "plt.ylabel('Crash Count')"
   ]
  },
  {
   "cell_type": "code",
   "execution_count": null,
   "metadata": {},
   "outputs": [],
   "source": []
  }
 ],
 "metadata": {
  "environment": {
   "name": "tf2-2-2-cpu.2-2.m50",
   "type": "gcloud",
   "uri": "gcr.io/deeplearning-platform-release/tf2-2-2-cpu.2-2:m50"
  },
  "kernelspec": {
   "display_name": "Python 3",
   "language": "python",
   "name": "python3"
  },
  "language_info": {
   "codemirror_mode": {
    "name": "ipython",
    "version": 3
   },
   "file_extension": ".py",
   "mimetype": "text/x-python",
   "name": "python",
   "nbconvert_exporter": "python",
   "pygments_lexer": "ipython3",
   "version": "3.7.6"
  }
 },
 "nbformat": 4,
 "nbformat_minor": 4
}
